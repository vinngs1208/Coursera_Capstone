{
    "cells": [
        {
            "cell_type": "markdown",
            "metadata": {
                "collapsed": true
            },
            "source": "# Evaluating the Best Neigbourhood to Operate a Restaurant in Amsterdam\n## \"The Battle of Neighborhoods\" Capstone Project Notebook"
        },
        {
            "cell_type": "markdown",
            "metadata": {},
            "source": "### Data section"
        },
        {
            "cell_type": "markdown",
            "metadata": {},
            "source": "For solving the problem, we need different type of data:\n\n1. List of neighborhoods of Amsterdam\n2. Car Parking list and their geolocations of Amsterdam\n3. Light Rail/Metro/Train/Tram/Bus Station list and their geolocations of Amsterdam\n\nWhile searching in open source, we reach the \"Statistics Netherlands\" website, where publishes formal, regular statistical datasets in various issues. we got the first and fourth datasets from there.\n\nThe second and third datasets are POI and it is easy to reach them by Foursquare API. So we tried to get the data via Foursquare API.\n\nThe important disadvantage of API is the response limit of queries. In every query, the response of venues list limited as 100 result. So, we tried to send query with sub-categoryIDs of venues' (which is exist in Foursquare web site) and update the dataframe with \"for loop\" easily. We explained this detail later also."
        },
        {
            "cell_type": "code",
            "execution_count": null,
            "metadata": {},
            "outputs": [],
            "source": ""
        }
    ],
    "metadata": {
        "kernelspec": {
            "display_name": "Python 3.7",
            "language": "python",
            "name": "python3"
        },
        "language_info": {
            "codemirror_mode": {
                "name": "ipython",
                "version": 3
            },
            "file_extension": ".py",
            "mimetype": "text/x-python",
            "name": "python",
            "nbconvert_exporter": "python",
            "pygments_lexer": "ipython3",
            "version": "3.7.9"
        }
    },
    "nbformat": 4,
    "nbformat_minor": 1
}