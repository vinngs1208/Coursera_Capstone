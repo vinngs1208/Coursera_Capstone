{
    "cells": [
        {
            "cell_type": "markdown",
            "metadata": {
                "collapsed": true
            },
            "source": "# Evaluating the Best Neigbourhood to Operate a Restaurant in Amsterdam\n\n## \"The Battle of Neighborhoods\" Capstone Project Notebook"
        },
        {
            "cell_type": "markdown",
            "metadata": {},
            "source": "### Introduction and Business Problem"
        },
        {
            "cell_type": "markdown",
            "metadata": {},
            "source": "<b>Attention:</b><br> \nIt is only a capstone final project and it is not claimed that the result of the project is 100% proper for trade and investing industry. On the other hand, it can be helpful in the decision process for the entrepreneurs and/or give an idea to make a comprehensive project to researchers.\n\n<b>Introduction:</b><br>\nThis project is a \"Capstone Project\" of Coursera - \"IBM Applied Data Science Capstone Course\" in the fourth/fifth weeks. In this project, we want to determine the best neighborhood in Amsterdam for the entrepreneurs to open a new restaurant. In the project, we tried to use most of the python scripts, libraries, virtualization of data, foursquare api.. etc.\n\n<b>Description and Background of the Problem:</b><br>\nWhile starting the project, like in course duration, we decided to analyse an other famous, important and crowded city, Amsterdam. As we know Amsterdam is the capital city of Netherlands. We also learn from wikipedia; \"the municipality of Amsterdam has 863,202 inhabitants (1 January 2019, CBS ). On the other hand, it is the fourth most visited city in Europe, around 17 million day trippers come to Amsterdam every year. Among the tourists are also many other museums , the coffee shops , the restaurants and window prostitution in the Wallen (Red Light District) popular. The falling number of caf\u00e9s is offset by a sharply increasing number of restaurants since 2010, not only in the center but also in the surrounding districts.\"\n\nAs we know, choosing a neighborhood and location for a restaurant is an important and diffucult step for the entrepreneurs. Most of time it can be as crucial factor as menu quality and service for the restaurant's success. The neighborhood is not only an important factor for customers but also it affects the restaurant quality, including the menu, interior design, style of furnitures.\n\n<b>So, the question (problem) is clear:</b><br>\n\nFor finding the answer of the question, first of all, we need the key factors of selecting the location for a restaurant. After making some search in open source (of course Google!), we found an article \"4 Important Factors When Choosing a Location to Open a Restaurant\". The article explain the 4 important factor shortly, which are;\n\nParking\nA restaurant should has its own parking lot. If that isn\u2019t an option (for example, in a major cities), consider partnering with a hotel in the area that has its own parking options. Also it has an acceptable distance to public parking lots.\nAccessibility\nThere\u2019s a reason that major restaurant chains are often located near highway exits: It makes them accessible for customers. Also it is a good option to close distance to public transportations. Light Rail Station, Metro Station, Train/Tram Station, Bus Stop around the restaurant is provide convenience for customers.\nVisibility\nThis goes along with accessibility and is very important for new restaurant locations. People have to know the restaurant is there, either in person or on their mobile devices.\nPopulation Base\nThere need to be enough people who live in or pass through the area regularly to keep the restaurant busy. So \"the particular area's population base\" is another important factor about suitable place for a new restaurant.\nAs we mentioned before, Amsterdam has a very crowded city with huge number of tourists. So we can eliminate the fourth factor (Population Base). The third factor (Visibility) is not easy to keep in view, because it needs different type of data like usage density of every streets, frequently prefered routas and the prefered reason... etc. May be a field research is also needed. Anyway, because of the diffuculties, we focused on first two factors (Parking and Accessibility) and collected data about them."
        },
        {
            "cell_type": "code",
            "execution_count": null,
            "metadata": {},
            "outputs": [],
            "source": ""
        }
    ],
    "metadata": {
        "kernelspec": {
            "display_name": "Python 3.7",
            "language": "python",
            "name": "python3"
        },
        "language_info": {
            "codemirror_mode": {
                "name": "ipython",
                "version": 3
            },
            "file_extension": ".py",
            "mimetype": "text/x-python",
            "name": "python",
            "nbconvert_exporter": "python",
            "pygments_lexer": "ipython3",
            "version": "3.7.9"
        }
    },
    "nbformat": 4,
    "nbformat_minor": 1
}